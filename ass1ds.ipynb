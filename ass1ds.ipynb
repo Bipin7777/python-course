{
 "cells": [
  {
   "cell_type": "markdown",
   "metadata": {},
   "source": [
    "# Question 1\n"
   ]
  },
  {
   "cell_type": "code",
   "execution_count": 5,
   "metadata": {},
   "outputs": [
    {
     "name": "stdout",
     "output_type": "stream",
     "text": [
      "addtion is\n",
      "[[ 3  1]\n",
      " [-3  7]]\n",
      "multipication is\n",
      "[[ 2 -2]\n",
      " [ 0 12]]\n",
      "simplification\n",
      "[[ 4 -7]\n",
      " [ 6  1]]\n"
     ]
    }
   ],
   "source": [
    "import numpy as np\n",
    "A = np.array([[2,-1],[0,3]])\n",
    "B = np.array([[1,2],[-3,4]])\n",
    "\n",
    "#For question 1(a)\n",
    "print(\"addtion is\")\n",
    "print(A+B)\n",
    "\n",
    "#For question 1(b)\n",
    "print(\"multipication is\")\n",
    "print(A*B)\n",
    "\n",
    "#For question 1(c)\n",
    "print(\"simplification is\")\n",
    "print(3*A-2*B)\n"
   ]
  },
  {
   "cell_type": "markdown",
   "metadata": {},
   "source": [
    "# Question 2"
   ]
  },
  {
   "cell_type": "code",
   "execution_count": 20,
   "metadata": {},
   "outputs": [
    {
     "name": "stdout",
     "output_type": "stream",
     "text": [
      "The determinant of matrix A is: 6.0\n",
      "\n",
      "Inverse of matrix A exists.\n",
      "The inverse of the matrix A is:\n",
      "[[0.5        0.16666667]\n",
      " [0.         0.33333333]]\n"
     ]
    }
   ],
   "source": [
    "#For question 2(a)\n",
    "det = round(np.linalg.det(A),2)\n",
    "print(f\"The determinant of matrix A is: {det}\")\n",
    "\n",
    "print()\n",
    "#For question 2(b)\n",
    "if(not det==0):\n",
    "    print(\"Inverse of matrix A exists.\")\n",
    "    inverse = np.linalg.inv(A)\n",
    "    print(\"The inverse of the matrix A is:\")\n",
    "    print(inverse)\n",
    "else:\n",
    "    print(\"Inverse of matrix A doesn't exist.\")"
   ]
  },
  {
   "cell_type": "markdown",
   "metadata": {},
   "source": [
    "# Question 3\n"
   ]
  },
  {
   "cell_type": "code",
   "execution_count": 19,
   "metadata": {},
   "outputs": [
    {
     "name": "stdout",
     "output_type": "stream",
     "text": [
      "The eigen values of matrix A are: [2. 3.]\n",
      "\n",
      "The eigen vectors of matrix A are: [[ 1.         -0.70710678]\n",
      " [ 0.          0.70710678]]\n"
     ]
    }
   ],
   "source": [
    "C = np.array([[4,1],[-2,1]])\n",
    "egval,egvec = np.linalg.eig(A)\n",
    "print(f\"The eigen values of matrix A are: {egval}\")\n",
    "print()\n",
    "print(f\"The eigen vectors of matrix A are: {egvec}\")"
   ]
  },
  {
   "cell_type": "markdown",
   "metadata": {},
   "source": [
    "# Question 4"
   ]
  },
  {
   "cell_type": "code",
   "execution_count": 18,
   "metadata": {},
   "outputs": [
    {
     "name": "stdout",
     "output_type": "stream",
     "text": [
      "The predicted price of car 3 is: 40.00\n"
     ]
    }
   ],
   "source": [
    "import numpy as np\n",
    "from sklearn.linear_model import LinearRegression\n",
    "\n",
    "# Define the features (x1, x2, x3) and prices\n",
    "X = np.array([[4, 1.5, 100], [6, 2.0, 150]])  # Feature matrix\n",
    "y = np.array([20, 30])  # Prices\n",
    "\n",
    "# Create and fit the linear regression model\n",
    "model = LinearRegression()\n",
    "model.fit(X, y)\n",
    "\n",
    "# Define the features of car 3\n",
    "x3 = np.array([[8, 3.0, 200]])\n",
    "\n",
    "# Predict the price of car 3\n",
    "predicted_price = model.predict(x3)\n",
    "\n",
    "print(f\"The predicted price of car 3 is: {predicted_price[0]:.2f}\")\n",
    "\n",
    "\n",
    "\n"
   ]
  }
 ],
 "metadata": {
  "kernelspec": {
   "display_name": "Python 3",
   "language": "python",
   "name": "python3"
  },
  "language_info": {
   "codemirror_mode": {
    "name": "ipython",
    "version": 3
   },
   "file_extension": ".py",
   "mimetype": "text/x-python",
   "name": "python",
   "nbconvert_exporter": "python",
   "pygments_lexer": "ipython3",
   "version": "3.13.1"
  }
 },
 "nbformat": 4,
 "nbformat_minor": 2
}
